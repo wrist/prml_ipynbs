{
 "metadata": {
  "celltoolbar": "Slideshow",
  "name": "",
  "signature": "sha256:1d8675d4991d51e5fa8e97f4236b161930ce8c325bf1fd4efd78efb32802034f"
 },
 "nbformat": 3,
 "nbformat_minor": 0,
 "worksheets": [
  {
   "cells": [
    {
     "cell_type": "markdown",
     "metadata": {
      "slideshow": {
       "slide_type": "slide"
      }
     },
     "source": [
      "## \u6df1\u5c64\u5b66\u7fd2\u8aad\u66f8\u4f1a#1 ##\n",
      "\n",
      "* \u6771\u5317\u5927\u306e\u5ca1\u8c37\u8cb4\u4e4b\u6559\u6388\u306e\u66f8\u304b\u308c\u305f\u300c\u6df1\u5c64\u5b66\u7fd2\u300d\u306e\u8aad\u66f8\u4f1a\n",
      "* \u30d3\u30c3\u30b0\u30a6\u30a7\u30fc\u30d6\u306b\u4e57\u308b\u3057\u304b\u306a\u3044"
     ]
    },
    {
     "cell_type": "markdown",
     "metadata": {
      "slideshow": {
       "slide_type": "slide"
      }
     },
     "source": [
      "## \u65b9\u91dd ##\n",
      "\n",
      "* \u57fa\u672c\u7684\u306b\u8aad\u66f8\u4f1a\n",
      "    * \u672c\u3092\u9806\u306b\u8aad\u307f\u9032\u3081\u306a\u304c\u3089\u7591\u554f\u70b9\u306f\u30db\u30ef\u30a4\u30c8\u30dc\u30fc\u30c9\u306a\u3069\u3067\u8a71\u3057\u5408\u3046\n",
      "    * \u30b9\u30e9\u30a4\u30c9\u306f\u6700\u4f4e\u9650\u4f5c\u6210\n",
      "        * \u4e00\u5fdc\u62c5\u5f53\u306f\u6c7a\u3081\u308b\n",
      "* \u3067\u304d\u308c\u3070\u5b9f\u88c5\u3082\u3059\u308b"
     ]
    },
    {
     "cell_type": "markdown",
     "metadata": {
      "slideshow": {
       "slide_type": "slide"
      }
     },
     "source": [
      "## \u4e88\u5b9a ##\n",
      "\n",
      "* \u4e88\u5b9a\n",
      "    * \u521d\u56de: \u7b2c1\u7ae0\u301c\u7b2c3\u7ae0(\u301cP.33)\n",
      "    * \u7b2c2\u56de: \u7b2c3\u7ae0\u301c\u7b2c5\u7ae0(P.55\u301cP.77)\n",
      "        * 3,4\u7ae0\u306f\u5927\u6a4b\n",
      "        * 5\u7ae0\u306f\u6589\u85e4\u305f\u304f\u307e\u3055\u3093\n",
      "        * (\u77f3\u4e95\u3055\u3093)\n",
      "        * 6/21\n",
      "    * \u7b2c3\u56de: \u7b2c6\u7ae0\u301c\u7b2c8\u7ae0(P.78\u301cP.156)\n",
      "    * \u7b2c4\u56de: \u4e88\u5099\u56de\n",
      "    * \u7b2c5\u56de: \u5b9f\u88c5\u56de\u3001\u30e9\u30a4\u30d6\u30e9\u30ea\u306e\u4f7f\u7528\u5831\u544a\u306a\u3069\n",
      "    * \u7b2c6\u56de: \u30bb\u30df\u30ca\u30fc\u5f62\u5f0f\u306e\u52c9\u5f37\u4f1a\n",
      "        * \u662f\u975e\u307f\u306a\u3055\u3093\u767a\u8868\u3092\n",
      "* 2\u301c4\u9031\u9593\u306b1\u56de\u306e\u30da\u30fc\u30b9\n",
      "    * \u5348\u524d\u5348\u5f8c\u3067\u901a\u3057\u3067\u3084\u308b\u53ef\u80fd\u6027\u3082\u6709"
     ]
    },
    {
     "cell_type": "markdown",
     "metadata": {
      "slideshow": {
       "slide_type": "slide"
      }
     },
     "source": [
      "## \u81ea\u5df1\u7d39\u4ecb ##\n",
      "\n",
      "* \u5927\u6a4b\u5b8f\u6b63\n",
      "    * \u4e00\u5fdc\u4e3b\u50ac\u8005\n",
      "* \u67d0\u30e1\u30fc\u30ab\u30fc\u52e4\u52d9\u306e\u97f3\u97ff\u4fe1\u53f7\u51e6\u7406\u30a8\u30f3\u30b8\u30cb\u30a2\n",
      "* \u305d\u308d\u305d\u308dc++\u3068python\u4ee5\u5916\u3082\u66f8\u304d\u305f\u3044"
     ]
    },
    {
     "cell_type": "markdown",
     "metadata": {
      "slideshow": {
       "slide_type": "slide"
      }
     },
     "source": [
      "## \u69cb\u6210 ##\n",
      "\n",
      "* 1\u7ae0: \u5c0e\u5165\n",
      "* 2\u7ae0: \u9806\u4f1d\u642c\u30cd\u30c3\u30c8\u30ef\u30fc\u30af\n",
      "    * NN\u3092\u4f7f\u3063\u305f\u8a08\u7b97\u65b9\u6cd5\n",
      "    * \u76ee\u7684(\u56de\u5e30\u30fb\u5206\u985e)\u306b\u5fdc\u3058\u305f\u6700\u7d42\u51fa\u529b\u306e\u8a2d\u5b9a\n",
      "* 3\u7ae0, 4\u7ae0: NN\u306e\u5b66\u7fd2\u65b9\u6cd5\u306e\u7d39\u4ecb\n",
      "    * 3\u7ae0: \u52fe\u914d\u964d\u4e0b\u6cd5\n",
      "    * 4\u7ae0: \u8aa4\u5dee\u9006\u4f1d\u64ad\u6cd5"
     ]
    },
    {
     "cell_type": "markdown",
     "metadata": {
      "slideshow": {
       "slide_type": "slide"
      }
     },
     "source": [
      "### 2.1 \u9806\u4f1d\u642c\u306e\u8a08\u7b97 ###\n",
      "\n",
      "* x\u306f\u5165\u529b(\u7b2c\u4e00\u5c64\u306e\u51fa\u529b\u3068\u89e3\u91c8)\u3001w\u306f\u30cd\u30c3\u30c8\u30ef\u30fc\u30af\u306e\u91cd\u307f\u4fc2\u6570\n",
      "    * \u30c9\u30c3\u30c8\u306f\u5185\u7a4d\u3092\u8868\u3059\n",
      "\n",
      "$$ u_1 = \\begin{bmatrix} w_{11} \\\\ w_{12} \\\\ w_{13} \\\\ w_{14} \\end{bmatrix} \\cdot \\begin{bmatrix} x_1 \\\\ x_2 \\\\ x_3 \\\\ x_4 \\end{bmatrix} + b_1$$\n",
      "\n",
      "* \u5f93\u3063\u3066w\u306f$w_{To From}$\u3068\u89e3\u91c8"
     ]
    },
    {
     "cell_type": "markdown",
     "metadata": {
      "slideshow": {
       "slide_type": "subslide"
      }
     },
     "source": [
      "* \u30d0\u30a4\u30a2\u30b9\u9805\u3092\u4fc2\u6570\u30d9\u30af\u30c8\u30eb\u306b\u5165\u308c\u308b\u8a18\u6cd5(\u5f8c\u306e\u7ae0\u3067\u51fa\u3066\u6765\u308b)\n",
      "$$ u_1 = \\begin{bmatrix} b_1 \\\\ w_{11} \\\\ w_{12} \\\\ w_{13} \\\\ w_{14} \\end{bmatrix} \\cdot \\begin{bmatrix} 1 \\\\ x_1 \\\\ x_2 \\\\ x_3 \\\\ x_4 \\end{bmatrix}$$"
     ]
    },
    {
     "cell_type": "markdown",
     "metadata": {
      "slideshow": {
       "slide_type": "subslide"
      }
     },
     "source": [
      "* \u6d3b\u6027\u5316\u95a2\u6570(\u5f8c\u8ff0)\u3092f\u3068\u3059\u308b\u3068\u51fa\u529b$z_1$\u306f\u4ee5\u4e0b\u306e\u3068\u304a\u308a\n",
      "$$ z_1 = f(u_1) = f\\left(\\begin{bmatrix} b_1 \\\\ w_{11} \\\\ w_{12} \\\\ w_{13} \\\\ w_{14} \\end{bmatrix} \\cdot \\begin{bmatrix} 1 \\\\ x_1 \\\\ x_2 \\\\ x_3 \\\\ x_4 \\end{bmatrix} \\right)$$"
     ]
    },
    {
     "cell_type": "markdown",
     "metadata": {
      "slideshow": {
       "slide_type": "subslide"
      }
     },
     "source": [
      "$$ {\\bf u} = \\begin{bmatrix} u_1 \\\\ u_2 \\\\ u_3 \\end{bmatrix} = \\begin{bmatrix}\n",
      "\\begin{bmatrix} b_1 \\\\ w_{11} \\\\ w_{12} \\\\ w_{13} \\\\ w_{14} \\end{bmatrix} \\cdot \\begin{bmatrix} 1 \\\\ x_1 \\\\ x_2 \\\\ x_3 \\\\ x_4 \\end{bmatrix} \\\\\n",
      "\\begin{bmatrix} b_2 \\\\ w_{21} \\\\ w_{22} \\\\ w_{23} \\\\ w_{24} \\end{bmatrix} \\cdot \\begin{bmatrix} 1 \\\\ x_1 \\\\ x_2 \\\\ x_3 \\\\ x_4 \\end{bmatrix} \\\\\n",
      "\\begin{bmatrix} b_3 \\\\ w_{31} \\\\ w_{32} \\\\ w_{33} \\\\ w_{34} \\end{bmatrix} \\cdot \\begin{bmatrix} 1 \\\\ x_1 \\\\ x_2 \\\\ x_3 \\\\ x_4 \\end{bmatrix} \\\\\n",
      "\\end{bmatrix}\n",
      "= \\begin{bmatrix}\n",
      "b_1 & w_{11} & w_{12} & w_{13} & w_{14} \\\\\n",
      "b_2 & w_{21} & w_{22} & w_{23} & w_{24} \\\\\n",
      "b_3 & w_{31} & w_{32} & w_{33} & w_{34}\n",
      "\\end{bmatrix}\\begin{bmatrix} 1 \\\\ x_1 \\\\ x_2 \\\\ x_3 \\\\ x_4 \\end{bmatrix}$$\n",
      "$$ {\\bf z} = \\begin{bmatrix} z_1 \\\\ z_2 \\\\ z_3 \\end{bmatrix} = {\\bf f}({\\bf u}) = \\begin{bmatrix} f(u_1) \\\\ f(u_2) \\\\ f(u_3) \\end{bmatrix}$$\n",
      "\n",
      "* \u5f93\u3063\u30661\u5c64\u3042\u305f\u308a\u306e\u8a08\u7b97\u91cf\u306f\u30d0\u30a4\u30a2\u30b9\u3092\u9664\u304f\u5165\u529b\u306e\u6b21\u5143\u3092N\u3001\u51fa\u529b\u306e\u6b21\u5143\u3092M\u3068\u3059\u308b\u3068\n",
      "    * \u4e57\u7b97`M*(N+1)`\u56de, \u52a0\u7b97`M*N`\u56de\u3001\u6d3b\u6027\u5316\u95a2\u6570\u8a08\u7b97`M`\u56de"
     ]
    },
    {
     "cell_type": "markdown",
     "metadata": {
      "slideshow": {
       "slide_type": "slide"
      }
     },
     "source": [
      "### 2.2 \u6d3b\u6027\u5316\u95a2\u6570 ###\n",
      "\n",
      "* logistic sigmoid \u95a2\u6570\n",
      "$$ f(u) = {\\rm sigmoid}(u) = \\frac{1}{1 + e^{-u}} $$\n",
      "\n",
      "* tanh\u95a2\u6570\n",
      "$$ f(u) = \\tanh(u) = \\frac{e^{u} - e^{-u}}{e^{u} + e^{-u}} $$\n",
      "\n",
      "* \u95a2\u4fc2\n",
      "$$ 1 - sigmoid(u) = 1 - \\frac{1}{1 + e^{-u}} =  \\frac{1 + e^{-u}}{1 + e^{-u}} -  \\frac{1}{1 + e^{-u}} =  \\frac{e^{-u}}{1 + e^{-u}}$$ \n",
      "$$ \\tanh(u) = \\frac{e^{u} - e^{-u}}{e^{u} + e^{-u}} = \\frac{1 - e^{-2u}}{1 + e^{-2u}} = \\frac{1}{1 + e^{-2u}} - \\frac{e^{-2u}}{1 + e^{-2u}}\n",
      "= {\\rm sigmoid}(2u) - (1 - {\\rm sigmoid}(2u))$$\n",
      "$$ {\\rm sigmoid}(2u) = \\frac{\\tanh(u) + 1}{2} $$"
     ]
    },
    {
     "cell_type": "code",
     "collapsed": false,
     "input": [
      "%matplotlib inline\n",
      "import numpy as np\n",
      "import matplotlib.pyplot as plt\n",
      "\n",
      "sigmoid = lambda u: 1. / (1. + np.exp(-u))\n",
      "relu = lambda u: map(lambda x: max(x, 0), u)\n",
      "piecewise = lambda u: map(lambda x: 1 if x >= 1 else (-1 if x < -1 else x), u)\n",
      "\n",
      "xs = np.linspace(-4., 4., 1000)\n",
      "ys_tanh = np.tanh(xs)\n",
      "ys_sig = sigmoid(xs)\n",
      "ys_relu = relu(xs)\n",
      "ys_piecewise = piecewise(xs)"
     ],
     "language": "python",
     "metadata": {
      "slideshow": {
       "slide_type": "subslide"
      }
     },
     "outputs": [],
     "prompt_number": 35
    },
    {
     "cell_type": "code",
     "collapsed": false,
     "input": [
      "fig = plt.figure(1, figsize=(10,10))\n",
      "ax = fig.add_subplot(111)\n",
      "ax.plot(xs, ys_sig);\n",
      "ax.plot(xs, ys_tanh)\n",
      "ax.plot(xs, ys_relu)\n",
      "ax.plot(xs, xs)\n",
      "ax.plot(xs, ys_piecewise)\n",
      "ax.set_ylim([-2.,2.]); ax.grid(); ax.legend([\"sigmoid\", \"tanh\", \"relu\", \"identity\",\"piecewise\"], loc=\"best\")\n",
      "plt.show"
     ],
     "language": "python",
     "metadata": {
      "slideshow": {
       "slide_type": "subslide"
      }
     },
     "outputs": [
      {
       "metadata": {},
       "output_type": "pyout",
       "prompt_number": 36,
       "text": [
        "<function matplotlib.pyplot.show>"
       ]
      },
      {
       "metadata": {},
       "output_type": "display_data",
       "png": "[encoded data removed]",
       "text": [
        "<matplotlib.figure.Figure at 0x106d8d250>"
       ]
      }
     ],
     "prompt_number": 36
    },
    {
     "cell_type": "markdown",
     "metadata": {
      "slideshow": {
       "slide_type": "slide"
      }
     },
     "source": [
      "### 2.3 \u591a\u5c64\u30cd\u30c3\u30c8\u30ef\u30fc\u30af ###\n",
      "\n",
      "$$ {\\bf u}^{(l+1)} = {\\bf W}^{(l+1)}{\\bf z}^{(l)} + {\\bf b}^{(l+1)} $$\n",
      "$$ {\\bf z}^{(l+1)} = {\\bf f}({\\bf u}^{(l+1)}) $$\n",
      "\n",
      "* ${\\bf u}^{(l+1)}$\u306fl+1\u5c64\u3078\u306e\u5165\u529b\n",
      "* ${\\bf W}^{(l+1)}$\u306fl\u5c64\u306e\u51fa\u529b\u304b\u3089l+1\u5c64\u306e\u5165\u529b\u3092\u4f5c\u308b\u305f\u3081\u306e\u30d1\u30e9\u30e1\u30fc\u30bf\n",
      "    * \u5f93\u3063\u3066${\\bf W}^1$\u306f\u5b58\u5728\u3057\u306a\u3044\n",
      "* ${\\bf z}^{(l)}$\u306fl\u5c64\u306e\u51fa\u529b\n",
      "* ${\\bf b}^{(l+1)}$\u306f${\\bf W}^{(l+1)}$\u306b\u5bfe\u5fdc\u3057\u305f\u30d0\u30a4\u30a2\u30b9"
     ]
    },
    {
     "cell_type": "markdown",
     "metadata": {
      "slideshow": {
       "slide_type": "subslide"
      }
     },
     "source": [
      "#### \u6700\u7d42\u51fa\u529b ####\n",
      "\n",
      "$${\\bf y}({\\bf x}; {\\bf w}) \\equiv {\\bf z}^{(L)} $$\n",
      "\n",
      "* \u5168\u4f53\u306e\u8a08\u7b97\u91cf\u306f\u30d0\u30a4\u30a2\u30b9\u3092\u9664\u304f\u5404\u5165\u529b\u306e\u6b21\u5143\u304c\u4e00\u5f8b\u3067N\u3001\u51fa\u529b\u306e\u6b21\u5143\u304c\u4e00\u5f8b\u3067M\u3068\u3059\u308b\u3068(\u3053\u306e\u5834\u5408N=M\u3068\u306a\u308b)\u3001L\u5c64\u306e\u5834\u5408\n",
      "    * \u4e57\u7b97`L*M*(N+1)`\u56de, \u52a0\u7b97`L*M*N`\u56de\u3001\u6d3b\u6027\u5316\u95a2\u6570\u8a08\u7b97`L*M`\u56de\n",
      "    * \u3053\u308c\u306f\u5b66\u7fd2\u30c7\u30fc\u30bf1\u30b5\u30f3\u30d7\u30eb\u8fba\u308a\u306e\u8a08\u7b97\u56de\u6570\n",
      "    * 3\u5c64\u3067N=1000\u3001\u30b5\u30f3\u30d7\u30ea\u30f3\u30b0\u30ec\u30fc\u30c816kHz\u306e\u5834\u5408\u30011\u79d2\u9593\u306b16000\u30b5\u30f3\u30d7\u30eb\n",
      "        * \u7a4d\u548c\u7b97\u304c1\u547d\u4ee4\u3067\u3067\u304d\u308b\u30c1\u30c3\u30d7\u306e\u5834\u5408\u3001\u7a4d\u548c\u306e\u8a08\u7b97\u91cf\u306e\u6982\u7b97\u5024\u306f`16000*2*(10**3)*(10**3)/(10**6)=32000`[MIPS]\n",
      "        * \u3053\u308c\u306b\u6d3b\u6027\u5316\u95a2\u6570\u306e\u8a08\u7b97\u304c\u52a0\u308f\u308b\u306e\u3067\u5168\u7d50\u5408\u306e\u30cd\u30c3\u30c8\u30ef\u30fc\u30af\u306e\u5834\u5408\u6050\u308d\u3057\u3044\u8a08\u7b97\u91cf"
     ]
    },
    {
     "cell_type": "markdown",
     "metadata": {
      "slideshow": {
       "slide_type": "slide"
      }
     },
     "source": [
      "### 2.4.3 \u4e8c\u5024\u5206\u985e ###\n",
      "\n",
      "#### \u4e8b\u5f8c\u78ba\u7387$p(d=1|{\\bf x})$ ####\n",
      "\n",
      "    * d\u304c1\u3068\u306a\u308b\u4e8b\u524d\u78ba\u7387p(d=1)\n",
      "    * d\u306b\u3064\u3044\u3066\u306e\u4e8b\u5f8c\u78ba\u7387\n",
      "$$ p(d=1|{\\bf x}) = \\frac{p({\\bf x}, d=1)}{p({\\bf x})} = \\frac{p({\\bf x}|d=1)p(d=1)}{p({\\bf x})} $$\n",
      "\n",
      "* $p({\\bf x}|d=1)$\u3092\u5c24\u5ea6\u3068\u8a00\u3046"
     ]
    },
    {
     "cell_type": "markdown",
     "metadata": {
      "slideshow": {
       "slide_type": "subslide"
      }
     },
     "source": [
      "#### (2.7)\u306b\u3064\u3044\u3066 ####\n",
      "\n",
      "$$ p(d|{\\bf x}) = p(d=1|{\\bf x})^d p(d=0|{\\bf x})^{1-d} \\tag{2.7} $$\n",
      "\n",
      "* \u3053\u308c\u306f\u3042\u308b\u8a13\u7df4\u30c7\u30fc\u30bf$({\\bf x},d)$\u306e\u30da\u30a2\u306b\u5bfe\u3057\u3066\u3001\u3082\u3057d=1\u3067\u3042\u308c\u3070p(d=0|x)\u306e\u9805\u306f1\u3068\u306a\u308a\u7d50\u679c\u306fp(d=1|x)\u3001\u9006\u306bd=0\u3067\u3042\u308c\u3070p(d=1|x)\u306e\u9805\u306f1\u3068\u306a\u308a\u7d50\u679c\u306fp(d=0|x)\u3068\u306a\u308b\u3053\u3068\u3092\u8868\u3059"
     ]
    },
    {
     "cell_type": "markdown",
     "metadata": {
      "slideshow": {
       "slide_type": "subslide"
      }
     },
     "source": [
      "#### (2.7\u5f0f)\u306e\u5909\u5f62 ####\n",
      "\n",
      "$$ p(d=0|{\\bf x}) + p(d=1|{\\bf x}) = 1 $$\n",
      "$$ p(d=1|{\\bf x}) \\simeq y({\\bf x}; {\\bf w}) $$\n",
      "\u3092\u7528\u3044\u308b\u3068(2.7)\u5f0f\u306f\u4ee5\u4e0b\u306e\u3088\u3046\u306b\u8a18\u8ff0\u53ef\u80fd\n",
      "$$ p(d|{\\bf x}) = p(d=1|{\\bf x})^d \\{1 - p(d=1|{\\bf x})\\}^{1-d} = y({\\bf x}; {\\bf w})^d \\{1 - y({\\bf x}; {\\bf w})\\}^{1-d} $$"
     ]
    },
    {
     "cell_type": "markdown",
     "metadata": {
      "slideshow": {
       "slide_type": "subslide"
      }
     },
     "source": [
      "#### ${\\bf w}$\u306e\u5c24\u5ea6 ####\n",
      "* \u4e57\u6cd5\u516c\u5f0f\u3092\u7528\u3044\u308b\u3068${\\bf w}$\u3068$d_n$\u306e\u540c\u6642\u78ba\u7387\u306f\u4e8c\u901a\u308a\u306e\u65b9\u6cd5\u3067\u8868\u305b\u308b\n",
      "$$ p({\\bf w}, d_n | {\\bf x}_n ) = p({\\bf w} | d_n, {\\bf x}_n)p(d_n| {\\bf x}_n) $$\n",
      "$$ p({\\bf w}, d_n | {\\bf x}_n ) = p(d_n | {\\bf w}, {\\bf x}_n)p({\\bf w}| {\\bf x}_n) $$\n",
      "* \u3053\u308c\u3089\u304c\u7b49\u3057\u3044\u306e\u3067\u3001${\\bf w}$\u306e\u30c7\u30fc\u30bf\u306b\u5bfe\u3059\u308b\u4e8b\u5f8c\u78ba\u7387\u306f\u4ee5\u4e0b\u306e\u3088\u3046\u306b\u8868\u73fe\u53ef\u80fd\n",
      "$$ p({\\bf w}| d_n, {\\bf x}_n) = \\frac{p(d_n| {\\bf w}, {\\bf x}_n)p({\\bf w} | {\\bf x}_n)}{p(d_n | {\\bf x}_n)} $$\n",
      "\n",
      "* $p(d_n| {\\bf w}, {\\bf x}_n)=p(d_n| {\\bf x}_n; {\\bf w})$\u304c\u5358\u4e00\u306e\u5b66\u7fd2\u30c7\u30fc\u30bf\u306b\u5bfe\u3059\u308b\u5c24\u5ea6\u3068\u306a\u308b\u306e\u3067\u3001\u5168\u5b66\u7fd2\u30c7\u30fc\u30bf\u306b\u95a2\u3059\u308b\u7a4d\u304c\u5b66\u7fd2\u30bb\u30c3\u30c8\u306b\u5bfe\u3059\u308b\u5c24\u5ea6\u3068\u306a\u308b"
     ]
    },
    {
     "cell_type": "markdown",
     "metadata": {
      "slideshow": {
       "slide_type": "subslide"
      }
     },
     "source": [
      "#### \u4e8b\u5f8c\u78ba\u7387\u3068\u30ed\u30b8\u30b9\u30c6\u30a3\u30c3\u30af\u95a2\u6570\u306e\u95a2\u4fc2 ####\n",
      "\n",
      "$$ u \\equiv \\log\\frac{p({\\bf x}, d=1)}{p({\\bf x},d=0)} \\iff \\frac{p({\\bf x}, d=1)}{p({\\bf x},d=0)} = \\exp(u)$$\n",
      "\u3067\u3042\u308b\u306e\u3067\n",
      "$$ p(d=1|{\\bf x}) = \\frac{p({\\bf x}, d=1)}{p({\\bf x})} = \\frac{p({\\bf x}, d=1)}{p({\\bf x}, d=0) + p({\\bf x}, d=1)}\n",
      "= \\frac{1}{\\frac{p({\\bf x}, d=0)}{p({\\bf x}, d=1)} + 1} = \\frac{1}{1 + \\exp(-u)}$$\n"
     ]
    },
    {
     "cell_type": "markdown",
     "metadata": {
      "slideshow": {
       "slide_type": "slide"
      }
     },
     "source": [
      "### 2.4.4 \u591a\u30af\u30e9\u30b9\u5206\u985e ###\n",
      "\n",
      "* P.21\u306e\u5f37\u5236\u7684\u306b$u_k$\u30920\u306b\u3059\u308b\u5bfe\u7b56\n",
      "    * $u_0$\u306f\u5404\u5165\u529b\u306b\u5bfe\u3057\u3066\u52a0\u7b97\u3055\u308c\u308b\u30aa\u30d5\u30bb\u30c3\u30c8(\u4efb\u610f\u306e\u5024\u304c\u8a31\u3055\u308c\u308b\u305f\u3081\u5197\u9577\u6027\u304c\u3042\u308b)\n",
      "    * \u5f37\u5236\u7684\u306b\u4e00\u3064\u306e\u30e6\u30cb\u30c3\u30c8\u3078\u306e\u5165\u529b\u30920\u306b\u3059\u308b\u3068\u3001$u_0$\u304c$-u_k$\u306b\u56fa\u5b9a\u3055\u308c\u308b\u305f\u3081\u4efb\u610f\u6027\u304c\u306a\u304f\u306a\u308b"
     ]
    },
    {
     "cell_type": "markdown",
     "metadata": {
      "slideshow": {
       "slide_type": "slide"
      }
     },
     "source": [
      "### 3.5.3 \u30c9\u30ed\u30c3\u30d7\u30a2\u30a6\u30c8 ###\n",
      "\n",
      "* \u63a8\u8ad6\u6642\u306e\u30e6\u30cb\u30c3\u30c8\u6570\u304c\u5b66\u7fd2\u6642\u3068\u6bd4\u3079\u30661/p\u306b\u5897\u3048\u3066\u3044\u308b\uff1f"
     ]
    },
    {
     "cell_type": "markdown",
     "metadata": {
      "slideshow": {
       "slide_type": "slide"
      }
     },
     "source": [
      "### 3.6.4 AdaGrad ###\n",
      "\n",
      "* i\u6210\u5206\u306e\u6642\u523b1\u304b\u3089\u73fe\u5728\u6642\u523bt\u307e\u3067\u306e$g_{t',i}$\u306e\u4e8c\u4e57\u548c\u306e\u5e73\u65b9\u6839\u3067\u5272\u308b\n",
      "* \u904e\u53bb\u306e\u4e00\u5b9a\u7bc4\u56f2\u3067\u306a\u304f\u3001\u5168\u6642\u523b\u306e\u548c\u306a\u306e\u3067\u3001\u983b\u51fa\u3059\u308b\u8981\u7d20\u306f\u5206\u6bcd\u304c\u5927\u304d\u304f\u306a\u308a\u52fe\u914d\u306f\u81ea\u52d5\u7684\u306b\u5c0f\u3055\u304f\u306a\u308b\u3001\u305d\u306e\u9006\u3067\u305f\u307e\u306b\u3057\u304b\u51fa\u306a\u3044\u8981\u7d20\u306f$g_{t',i}$\u304c0\u306b\u8fd1\u3044\u5024\u304c\u51fa\u308b\u3053\u3068\u304c\u591a\u3044\u306e\u3067\u52fe\u914d\u306f\u5c0f\u3055\u304f\u3001\u66f4\u65b0\u901f\u5ea6\u306f\u901f\u3044"
     ]
    },
    {
     "cell_type": "markdown",
     "metadata": {
      "slideshow": {
       "slide_type": "slide"
      }
     },
     "source": [
      "### 3.6.5 \u30e2\u30fc\u30e1\u30f3\u30bf\u30e0 ###\n",
      "\n",
      "* \u52fe\u914d\u3092\u5e73\u6ed1\u5316\u3057\u305f\u3082\u306e\u3068\u307f\u306a\u305b\u308b\n",
      "$$ \\Delta{\\bf w}^{(t-1)} \\equiv {\\bf w}^{(t-1)} - {\\bf w}^{(t-2)} = -\\epsilon\\nabla E_t^{(t-1)} + \\mu \\Delta{\\bf w}^{(t-2)}$$\n",
      "\u3067\u3042\u308b\u306e\u3067\u3001\u73fe\u5728\u6642\u523b\u306e\u52fe\u914d\u3068\u524d\u6642\u523b\u306e\u52fe\u914d\u306e\u95a2\u4fc2\u306f\u4ee5\u4e0b\u306e\u3088\u3046\u306b\u306a\u308b\n",
      "$$ \\Delta{\\bf w}^{(t)} = -\\epsilon\\nabla E_t^{(t)} + \\mu \\Delta{\\bf w}^{(t-1)} $$\n",
      "$$ = -\\epsilon\\nabla E_t^{(t)} + \\mu \\left\\{ -\\epsilon\\nabla E_t^{(t-1)} + \\mu \\Delta{\\bf w}^{(t-2)} \\right\\} $$\n",
      "\n",
      "* $\\Delta{\\bf w}$\u304c\u4e00\u5b9a\u3060\u3068\u3059\u308b\u3068\n",
      "$$ \\Delta{\\bf w} = -\\epsilon\\nabla E_t^{(t)} + \\mu \\Delta{\\bf w} \\iff \\Delta{\\bf w} = -\\frac{1}{1-\\mu}\\epsilon\\nabla E_t^{(t)} $$"
     ]
    },
    {
     "cell_type": "markdown",
     "metadata": {
      "slideshow": {
       "slide_type": "slide"
      }
     },
     "source": [
      "### 3.6.6 \u91cd\u307f\u306e\u521d\u671f\u5316 ###\n",
      "\n",
      "$$u_j = \\sum_i w_{ji} x_i $$\n",
      "\u306b\u304a\u3044\u3066$w_{ji}$\u306e\u3070\u3089\u3064\u304d\u304c\u5927\u304d\u3044\u3068\u3001\u30ed\u30b8\u30b9\u30c6\u30a3\u30c3\u30af\u95a2\u6570\u306b\u5165\u529b\u3055\u308c\u308b$u_j$\u304c\u6975\u7aef\u306a\u5024\u3092\u53d6\u308a\u3001\u30ed\u30b8\u30b9\u30c6\u30a3\u30c3\u30af\u95a2\u6570\u306e\u51fa\u529b\u304c-1\u30841\u306b\u306a\u308b\u3002\u305d\u3046\u306a\u308b\u3068\u50be\u304d\u304c0\u3068\u306a\u308b\u306e\u3067\u4e00\u6b21\u5fae\u5206\u304c0\u3068\u306a\u3063\u3066\u3057\u307e\u3044\u5b66\u7fd2\u304c\u4e0a\u624b\u304f\u3044\u304b\u306a\u3044\u3002\n",
      "$u_j$\u306e\u5206\u6563\u306f\n",
      "$$V(u_j) = (u_j - \\bar{u_j})^2 = \\left\\{\\sum_i w_{ji} x_i - 0 \\right\\}^2 = \\left\\{\\sum_i w_{ji} x_i \\right\\}\\left\\{\\sum_i w_{ji} x_i \\right\\} $$\n",
      "x\u304c\u72ec\u7acb\u3060\u3068\u4eee\u5b9a\u3059\u308b\u3068\u3001\u30af\u30ed\u30b9\u9805\u304c\u6d88\u3048\u3066\n",
      "$$ = \\sum_i w_{ji}^2 V(x_i) = \\sum_i w_{ji}^2 $$\n",
      "\u3068\u8a08\u7b97\u3067\u304d\u308b\u3002\n",
      "\n",
      "$$V(u_j) = \\sigma_u^2$$\n",
      "\u306b\u3057\u305f\u3044\u5834\u5408\u306f\u5165\u529b\u30e6\u30cb\u30c3\u30c8\u6570\u3092M\u3068\u3059\u308b\u3068\u91cd\u307f\u306e\u6a19\u6e96\u504f\u5dee\u3092$\\sigma = \\sigma_u / M^{-2}$\u3068\u3057\u3066\u304a\u3051\u3070\u3001\n",
      "$$V(u_j) = \\sum_i^M w_{ji}^2 = \\sum_i^M (\\sigma_u / M^{-2})^2 = M \\sigma_u^2 / M^4 $$\n",
      "$\\sigma = \\sigma_u / M^{1/2}$\u306e\u9593\u9055\u3044\u3067\u306f\u306a\u3044\u304b\uff1f"
     ]
    },
    {
     "cell_type": "code",
     "collapsed": false,
     "input": [],
     "language": "python",
     "metadata": {},
     "outputs": []
    },
    {
     "cell_type": "markdown",
     "metadata": {},
     "source": [
      "* 5\u7ae0: AutoEncoder\u306e\u8a71\n",
      "    * NN\u306e\u4e8b\u524d\u5b66\u7fd2\n",
      "    * \u524d\u51e6\u7406\n",
      "* 6\u7ae0: \u7573\u307f\u8fbc\u307fNN\n",
      "    * \u753b\u50cf\u8a8d\u8b58\u306a\u3069\u3067\u7528\u3044\u3089\u308c\u308b\u7573\u307f\u8fbc\u307fNN\n",
      "* 7\u7ae0: Recurrent NN\n",
      "    * \u6642\u7cfb\u5217\u51e6\u7406\u306b\u9069\u3059\u308bNN\n",
      "* 8\u7ae0: \u30dc\u30eb\u30c4\u30de\u30f3\u30de\u30b7\u30f3(RBM, DBN, DBM\u306a\u3069)\n",
      "    * NN\u306e\u4e8b\u524d\u5b66\u7fd2"
     ]
    },
    {
     "cell_type": "code",
     "collapsed": false,
     "input": [],
     "language": "python",
     "metadata": {},
     "outputs": []
    }
   ],
   "metadata": {}
  }
 ]
}