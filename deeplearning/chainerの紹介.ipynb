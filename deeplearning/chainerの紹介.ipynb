{
 "cells": [
  {
   "cell_type": "markdown",
   "metadata": {},
   "source": [
    "## chainerとは ##\n",
    "\n",
    "* preferred infrastructureが作ったpythonから利用可能なDeep Learning用ライブラリ\n",
    "    * https://github.com/pfnet/chainer"
   ]
  },
  {
   "cell_type": "markdown",
   "metadata": {},
   "source": [
    "## インストール ##\n",
    "\n",
    "* pipでchainerを入れる\n",
    "\n",
    "```\n",
    "$ pip install chainer\n",
    "```\n",
    "\n",
    "### CUDA対応にしたい場合は以下の手順を踏んでインストール ###\n",
    "\n",
    "* CUDAのインストール https://developer.nvidia.com/cuda-downloads?sid=854243\n",
    "* CuFFTのパッチのダウンロードおよび適用\n",
    "```\n",
    "$ cp cufft_patch_mac.tar.gz ~\n",
    "$ cd /Developer/NVIDIA/CUDA-7.0\n",
    "$ sudo tar zxvf ~/cufft_patch_mac.tar.gz\n",
    "```\n",
    "\n",
    "* 環境変数CUDA_DIR、PATH, LD_LIBRARY_PATHの設定\n",
    "\n",
    "```\n",
    "export CUDA_DIR=\"/usr/local/cuda\"\n",
    "export PATH=\"${CUDA_DIR}/bin:${PATH}\"\n",
    "export LD_LIBRARY_PATH=\"${CUDA_DIR}/lib:${LD_LIBRARY_PATH}\"\n",
    "```\n",
    "    * osx(10.10.3)の場合cudaは/Developer/NVIDIA/CUDA-7.0以下に入るが、同時に/usr/local/cuda以下からシンボリックリンクも張られるため、CUDA_DIRは/usr/local/cudaにする\n",
    "\n",
    "* 依存しているライブラリのインストール\n",
    "\n",
    "```\n",
    "pip install chainer-cuda-deps\n",
    "```\n",
    "\n",
    "    * しかしosxでは/Developer/NVIDIA/CUDA-7.0/lib64が存在しないためにリンク時にerrorが発生する\n",
    "    * 苦肉の策としてlibに対してlib64のシンボリックリンクを張る必要があった   \n",
    "\n",
    "* pycudaが実行できるかテスト\n",
    "\n",
    "```python\n",
    "import pycuda.gpuarray as gpuarray\n",
    "import pycuda.driver as cuda\n",
    "import pycuda.autoinit\n",
    "import numpy as np\n",
    "a_gpu = gpuarray.to_gpu(np.random.randn(4,4).astype(np.float32))\n",
    "a_doubled = (2*a_gpu).get()\n",
    "print a_doubled\n",
    "print a_gpu\n",
    "```\n",
    "\n",
    "* macbook air 2012(mid)だとNVIDIAでなくIntelのGPUなのでautoinitで落ちる\n",
    "    * 何のために頑張ったのか"
   ]
  },
  {
   "cell_type": "markdown",
   "metadata": {
    "collapsed": true
   },
   "source": [
    "## サンプルを実行してみる ##\n",
    "\n",
    "* https://github.com/pfnet/chainer/tree/master/examples/mnist のmnist_train.pyを試す\n",
    "    * 複数GPUでパラレルに回すmnist_train_model_parallel.pyも存在"
   ]
  },
  {
   "cell_type": "markdown",
   "metadata": {},
   "source": [
    "### CPUで試す ###\n",
    "\n",
    "```sh\n",
    "$ python train_mnist.py\n",
    "...\n",
    "epoch 19\n",
    "train mean loss=0.0420299975814, accuracy=0.987416676184\n",
    "test  mean loss=0.0650055166729, accuracy=0.983600005507\n",
    "epoch 20\n",
    "train mean loss=0.0456801100779, accuracy=0.986183343232\n",
    "test  mean loss=0.065424739151, accuracy=0.983800007105\n",
    "```\n",
    "と20回試行される。\n",
    "\n",
    "* Macbook Air 2012(mid)の場合\n",
    "    * 1.8 GHz Intel Core i5\n",
    "    * timeコマンドで測ったところ以下の結果(23分)\n",
    "    \n",
    "    python train_mnist.py  1415.84s user 147.81s system 123% cpu 21:09.24 total\n",
    "\n",
    "### GPUで試す ###\n",
    "\n",
    "```sh\n",
    "$ python train_mnist.py --gpu=1\n",
    "```\n",
    "* osxの場合`export DYLD_LIBRARY_PATH=\"${CUDA_DIR}/lib:${LD_LIBRARY_PATH}\"`しておく必要有\n",
    "    * しかしNVIDIA GPUでなかったためsegmentation faultが発生し絶望的な気持ちに襲われる"
   ]
  },
  {
   "cell_type": "markdown",
   "metadata": {},
   "source": [
    "## 中身を読む ##"
   ]
  },
  {
   "cell_type": "code",
   "execution_count": 11,
   "metadata": {
    "collapsed": false
   },
   "outputs": [],
   "source": [
    "# 準備\n",
    "import numpy as np\n",
    "from chainer import cuda, Variable, FunctionSet, optimizers                                                                                                                       \n",
    "import chainer.functions  as F \n",
    "\n",
    "batchsize = 100                                                                                                                                                                   \n",
    "n_epoch   = 20                                                                                                                                                                    \n",
    "n_units   = 1000\n",
    "N         = 60000"
   ]
  },
  {
   "cell_type": "code",
   "execution_count": 12,
   "metadata": {
    "collapsed": true
   },
   "outputs": [],
   "source": [
    "# ニューラルネットワークの構成を決める部分\n",
    "model = FunctionSet(l1=F.Linear(784, n_units),                                                                                                                                    \n",
    "                    l2=F.Linear(n_units, n_units),                                                                                                                                \n",
    "                    l3=F.Linear(n_units, 10)) "
   ]
  },
  {
   "cell_type": "code",
   "execution_count": 17,
   "metadata": {
    "collapsed": true
   },
   "outputs": [],
   "source": [
    "# 前向き計算の定義\n",
    "# Fはユーティリティクラス, modelはグローバルになっている\n",
    "# 第三引数trainによって挙動が変わる\n",
    "def forward(x_data, y_data, train=True):                                                                                                                                          \n",
    "    x, t = Variable(x_data), Variable(y_data)                                                                                                                                     \n",
    "    h1 = F.dropout(F.relu(model.l1(x)),  train=train)                                                                                                                             \n",
    "    h2 = F.dropout(F.relu(model.l2(h1)), train=train)                                                                                                                             \n",
    "    y  = model.l3(h2)                                                                                                                                                             \n",
    "    return F.softmax_cross_entropy(y, t), F.accuracy(y, t)"
   ]
  },
  {
   "cell_type": "code",
   "execution_count": 14,
   "metadata": {
    "collapsed": true
   },
   "outputs": [],
   "source": [
    "# オプティマイザの設定\n",
    "# ここでオプティマイザとモデルが紐付けられる？\n",
    "optimizer = optimizers.Adam()                                                                                                                                                     \n",
    "optimizer.setup(model.collect_parameters())  "
   ]
  },
  {
   "cell_type": "code",
   "execution_count": 15,
   "metadata": {
    "collapsed": false
   },
   "outputs": [
    {
     "ename": "NameError",
     "evalue": "name 'x_train' is not defined",
     "output_type": "error",
     "traceback": [
      "\u001b[0;31m---------------------------------------------------------------------------\u001b[0m",
      "\u001b[0;31mNameError\u001b[0m                                 Traceback (most recent call last)",
      "\u001b[0;32m<ipython-input-15-7e9bb9618fd4>\u001b[0m in \u001b[0;36m<module>\u001b[0;34m()\u001b[0m\n\u001b[1;32m      2\u001b[0m \u001b[0mperm\u001b[0m \u001b[0;34m=\u001b[0m \u001b[0mnp\u001b[0m\u001b[0;34m.\u001b[0m\u001b[0mrandom\u001b[0m\u001b[0;34m.\u001b[0m\u001b[0mpermutation\u001b[0m\u001b[0;34m(\u001b[0m\u001b[0mN\u001b[0m\u001b[0;34m)\u001b[0m\u001b[0;34m\u001b[0m\u001b[0m\n\u001b[1;32m      3\u001b[0m \u001b[0;32mfor\u001b[0m \u001b[0mi\u001b[0m \u001b[0;32min\u001b[0m \u001b[0mxrange\u001b[0m\u001b[0;34m(\u001b[0m\u001b[0;36m0\u001b[0m\u001b[0;34m,\u001b[0m \u001b[0mN\u001b[0m\u001b[0;34m,\u001b[0m \u001b[0mbatchsize\u001b[0m\u001b[0;34m)\u001b[0m\u001b[0;34m:\u001b[0m  \u001b[0;31m# バッチサイズごとにステップ\u001b[0m\u001b[0;34m\u001b[0m\u001b[0m\n\u001b[0;32m----> 4\u001b[0;31m     \u001b[0mx_batch\u001b[0m \u001b[0;34m=\u001b[0m \u001b[0mx_train\u001b[0m\u001b[0;34m[\u001b[0m\u001b[0mperm\u001b[0m\u001b[0;34m[\u001b[0m\u001b[0mi\u001b[0m\u001b[0;34m:\u001b[0m\u001b[0mi\u001b[0m\u001b[0;34m+\u001b[0m\u001b[0mbatchsize\u001b[0m\u001b[0;34m]\u001b[0m\u001b[0;34m]\u001b[0m  \u001b[0;31m# 学習データをバッチサイズに切り出す\u001b[0m\u001b[0;34m\u001b[0m\u001b[0m\n\u001b[0m\u001b[1;32m      5\u001b[0m     \u001b[0my_batch\u001b[0m \u001b[0;34m=\u001b[0m \u001b[0my_train\u001b[0m\u001b[0;34m[\u001b[0m\u001b[0mperm\u001b[0m\u001b[0;34m[\u001b[0m\u001b[0mi\u001b[0m\u001b[0;34m:\u001b[0m\u001b[0mi\u001b[0m\u001b[0;34m+\u001b[0m\u001b[0mbatchsize\u001b[0m\u001b[0;34m]\u001b[0m\u001b[0;34m]\u001b[0m\u001b[0;34m\u001b[0m\u001b[0m\n\u001b[1;32m      6\u001b[0m     \u001b[0;32mif\u001b[0m \u001b[0margs\u001b[0m\u001b[0;34m.\u001b[0m\u001b[0mgpu\u001b[0m \u001b[0;34m>=\u001b[0m \u001b[0;36m0\u001b[0m\u001b[0;34m:\u001b[0m\u001b[0;34m\u001b[0m\u001b[0m\n",
      "\u001b[0;31mNameError\u001b[0m: name 'x_train' is not defined"
     ]
    }
   ],
   "source": [
    "# 各epochの繰り返しにおける学習過程\n",
    "perm = np.random.permutation(N)\n",
    "for i in xrange(0, N, batchsize):  # バッチサイズごとにステップ \n",
    "    x_batch = x_train[perm[i:i+batchsize]]  # 学習データをバッチサイズに切り出す\n",
    "    y_batch = y_train[perm[i:i+batchsize]]\n",
    "    if args.gpu >= 0:\n",
    "        x_batch = cuda.to_gpu(x_batch)\n",
    "        y_batch = cuda.to_gpu(y_batch)\n",
    "\n",
    "    optimizer.zero_grads()\n",
    "    loss, acc = forward(x_batch, y_batch)\n",
    "    loss.backward()  # バックプロパゲーション\n",
    "    optimizer.update()"
   ]
  },
  {
   "cell_type": "code",
   "execution_count": 16,
   "metadata": {
    "collapsed": false
   },
   "outputs": [
    {
     "ename": "NameError",
     "evalue": "name 'N_test' is not defined",
     "output_type": "error",
     "traceback": [
      "\u001b[0;31m---------------------------------------------------------------------------\u001b[0m",
      "\u001b[0;31mNameError\u001b[0m                                 Traceback (most recent call last)",
      "\u001b[0;32m<ipython-input-16-bd62947bbf70>\u001b[0m in \u001b[0;36m<module>\u001b[0;34m()\u001b[0m\n\u001b[1;32m      1\u001b[0m \u001b[0;31m# 評価過程, forwardの第三引数がFalseになっている\u001b[0m\u001b[0;34m\u001b[0m\u001b[0;34m\u001b[0m\u001b[0m\n\u001b[0;32m----> 2\u001b[0;31m \u001b[0;32mfor\u001b[0m \u001b[0mi\u001b[0m \u001b[0;32min\u001b[0m \u001b[0mxrange\u001b[0m\u001b[0;34m(\u001b[0m\u001b[0;36m0\u001b[0m\u001b[0;34m,\u001b[0m \u001b[0mN_test\u001b[0m\u001b[0;34m,\u001b[0m \u001b[0mbatchsize\u001b[0m\u001b[0;34m)\u001b[0m\u001b[0;34m:\u001b[0m\u001b[0;34m\u001b[0m\u001b[0m\n\u001b[0m\u001b[1;32m      3\u001b[0m     \u001b[0mx_batch\u001b[0m \u001b[0;34m=\u001b[0m \u001b[0mx_test\u001b[0m\u001b[0;34m[\u001b[0m\u001b[0mi\u001b[0m\u001b[0;34m:\u001b[0m\u001b[0mi\u001b[0m\u001b[0;34m+\u001b[0m\u001b[0mbatchsize\u001b[0m\u001b[0;34m]\u001b[0m\u001b[0;34m\u001b[0m\u001b[0m\n\u001b[1;32m      4\u001b[0m     \u001b[0my_batch\u001b[0m \u001b[0;34m=\u001b[0m \u001b[0my_test\u001b[0m\u001b[0;34m[\u001b[0m\u001b[0mi\u001b[0m\u001b[0;34m:\u001b[0m\u001b[0mi\u001b[0m\u001b[0;34m+\u001b[0m\u001b[0mbatchsize\u001b[0m\u001b[0;34m]\u001b[0m\u001b[0;34m\u001b[0m\u001b[0m\n\u001b[1;32m      5\u001b[0m     \u001b[0;32mif\u001b[0m \u001b[0margs\u001b[0m\u001b[0;34m.\u001b[0m\u001b[0mgpu\u001b[0m \u001b[0;34m>=\u001b[0m \u001b[0;36m0\u001b[0m\u001b[0;34m:\u001b[0m\u001b[0;34m\u001b[0m\u001b[0m\n",
      "\u001b[0;31mNameError\u001b[0m: name 'N_test' is not defined"
     ]
    }
   ],
   "source": [
    "# 評価過程, forwardの第三引数がFalseになっている\n",
    "for i in xrange(0, N_test, batchsize):\n",
    "    x_batch = x_test[i:i+batchsize]\n",
    "    y_batch = y_test[i:i+batchsize]\n",
    "    if args.gpu >= 0:\n",
    "        x_batch = cuda.to_gpu(x_batch)\n",
    "        y_batch = cuda.to_gpu(y_batch)\n",
    "\n",
    "    loss, acc = forward(x_batch, y_batch, train=False)"
   ]
  },
  {
   "cell_type": "markdown",
   "metadata": {},
   "source": [
    "## 次回 ##\n",
    "\n",
    "* 中身をもう少しちゃんと読む\n",
    "* AWSのCG1インスタンスかG2インスタンスで試す\n",
    "    * CG1インスタンス\n",
    "        * GPU: M2050\n",
    "        * FLOPS: 1.03 Tflops\n",
    "        * メモリ: 3GB\n",
    "    * G2インスタンス: GRID K520\n",
    "        * http://www.nvidia.co.jp/object/cloud-gaming-gpu-boards-jp.html"
   ]
  }
 ],
 "metadata": {
  "kernelspec": {
   "display_name": "Python 2",
   "language": "python",
   "name": "python2"
  },
  "language_info": {
   "codemirror_mode": {
    "name": "ipython",
    "version": 2
   },
   "file_extension": ".py",
   "mimetype": "text/x-python",
   "name": "python",
   "nbconvert_exporter": "python",
   "pygments_lexer": "ipython2",
   "version": "2.7.9"
  }
 },
 "nbformat": 4,
 "nbformat_minor": 0
}
