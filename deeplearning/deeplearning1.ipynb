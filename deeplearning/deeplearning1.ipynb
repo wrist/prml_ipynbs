{
 "cells": [
  {
   "cell_type": "markdown",
   "metadata": {
    "slideshow": {
     "slide_type": "slide"
    }
   },
   "source": [
    "## 深層学習読書会#1 ##\n",
    "\n",
    "* 東北大の岡谷貴之教授の書かれた「深層学習」の読書会\n",
    "* ビッグウェーブに乗るしかない"
   ]
  },
  {
   "cell_type": "markdown",
   "metadata": {
    "slideshow": {
     "slide_type": "slide"
    }
   },
   "source": [
    "## 方針 ##\n",
    "\n",
    "* 基本的に読書会\n",
    "    * 本を順に読み進めながら疑問点はホワイトボードなどで話し合う\n",
    "    * スライドは最低限作成\n",
    "        * 一応担当は決める\n",
    "* できれば実装もする"
   ]
  },
  {
   "cell_type": "markdown",
   "metadata": {
    "slideshow": {
     "slide_type": "slide"
    }
   },
   "source": [
    "## 予定 ##\n",
    "\n",
    "* 予定\n",
    "    * 初回: 第1章〜第3章(〜P.33)\n",
    "    * 第2回: 第3章〜第5章(P.55〜P.77)\n",
    "        * 3,4章は大橋\n",
    "        * 5章は斉藤たくまさん\n",
    "        * (石井さん)\n",
    "        * 6/21\n",
    "    * 第3回: 第6章〜第8章(P.78〜P.156)\n",
    "    * 第4回: 予備回\n",
    "    * 第5回: 実装回、ライブラリの使用報告など\n",
    "    * 第6回: セミナー形式の勉強会\n",
    "        * 是非みなさん発表を\n",
    "* 2〜4週間に1回のペース\n",
    "    * 午前午後で通しでやる可能性も有"
   ]
  },
  {
   "cell_type": "markdown",
   "metadata": {
    "slideshow": {
     "slide_type": "slide"
    }
   },
   "source": [
    "## 自己紹介 ##\n",
    "\n",
    "* 大橋宏正\n",
    "    * 一応主催者\n",
    "* 某メーカー勤務の音響信号処理エンジニア\n",
    "* そろそろc++とpython以外も書きたい"
   ]
  },
  {
   "cell_type": "markdown",
   "metadata": {
    "slideshow": {
     "slide_type": "slide"
    }
   },
   "source": [
    "## 構成 ##\n",
    "\n",
    "* 1章: 導入\n",
    "* 2章: 順伝搬ネットワーク\n",
    "    * NNを使った計算方法\n",
    "    * 目的(回帰・分類)に応じた最終出力の設定\n",
    "* 3章, 4章: NNの学習方法の紹介\n",
    "    * 3章: 勾配降下法\n",
    "    * 4章: 誤差逆伝播法"
   ]
  },
  {
   "cell_type": "markdown",
   "metadata": {},
   "source": [
    "* 5章: AutoEncoderの話\n",
    "    * NNの事前学習\n",
    "    * 前処理\n",
    "* 6章: 畳み込みNN\n",
    "    * 画像認識などで用いられる畳み込みNN\n",
    "* 7章: Recurrent NN\n",
    "    * 時系列処理に適するNN\n",
    "* 8章: ボルツマンマシン(RBM, DBN, DBMなど)\n",
    "    * NNの事前学習"
   ]
  },
  {
   "cell_type": "markdown",
   "metadata": {
    "slideshow": {
     "slide_type": "slide"
    }
   },
   "source": [
    "### 2.1 順伝搬の計算 ###\n",
    "\n",
    "* xは入力(第一層の出力と解釈)、wはネットワークの重み係数\n",
    "    * ドットは内積を表す\n",
    "\n",
    "$$ u_1 = \\begin{bmatrix} w_{11} \\\\ w_{12} \\\\ w_{13} \\\\ w_{14} \\end{bmatrix} \\cdot \\begin{bmatrix} x_1 \\\\ x_2 \\\\ x_3 \\\\ x_4 \\end{bmatrix} + b_1$$\n",
    "\n",
    "* 従ってwは$w_{To From}$と解釈"
   ]
  },
  {
   "cell_type": "markdown",
   "metadata": {
    "slideshow": {
     "slide_type": "subslide"
    }
   },
   "source": [
    "* バイアス項を係数ベクトルに入れる記法(後の章で出て来る)\n",
    "$$ u_1 = \\begin{bmatrix} b_1 \\\\ w_{11} \\\\ w_{12} \\\\ w_{13} \\\\ w_{14} \\end{bmatrix} \\cdot \\begin{bmatrix} 1 \\\\ x_1 \\\\ x_2 \\\\ x_3 \\\\ x_4 \\end{bmatrix}$$"
   ]
  },
  {
   "cell_type": "markdown",
   "metadata": {
    "slideshow": {
     "slide_type": "subslide"
    }
   },
   "source": [
    "* 活性化関数(後述)をfとすると出力$z_1$は以下のとおり\n",
    "$$ z_1 = f(u_1) = f\\left(\\begin{bmatrix} b_1 \\\\ w_{11} \\\\ w_{12} \\\\ w_{13} \\\\ w_{14} \\end{bmatrix} \\cdot \\begin{bmatrix} 1 \\\\ x_1 \\\\ x_2 \\\\ x_3 \\\\ x_4 \\end{bmatrix} \\right)$$"
   ]
  },
  {
   "cell_type": "markdown",
   "metadata": {
    "slideshow": {
     "slide_type": "subslide"
    }
   },
   "source": [
    "$$ {\\bf u} = \\begin{bmatrix} u_1 \\\\ u_2 \\\\ u_3 \\end{bmatrix} = \\begin{bmatrix}\n",
    "\\begin{bmatrix} b_1 \\\\ w_{11} \\\\ w_{12} \\\\ w_{13} \\\\ w_{14} \\end{bmatrix} \\cdot \\begin{bmatrix} 1 \\\\ x_1 \\\\ x_2 \\\\ x_3 \\\\ x_4 \\end{bmatrix} \\\\\n",
    "\\begin{bmatrix} b_2 \\\\ w_{21} \\\\ w_{22} \\\\ w_{23} \\\\ w_{24} \\end{bmatrix} \\cdot \\begin{bmatrix} 1 \\\\ x_1 \\\\ x_2 \\\\ x_3 \\\\ x_4 \\end{bmatrix} \\\\\n",
    "\\begin{bmatrix} b_3 \\\\ w_{31} \\\\ w_{32} \\\\ w_{33} \\\\ w_{34} \\end{bmatrix} \\cdot \\begin{bmatrix} 1 \\\\ x_1 \\\\ x_2 \\\\ x_3 \\\\ x_4 \\end{bmatrix} \\\\\n",
    "\\end{bmatrix}\n",
    "= \\begin{bmatrix}\n",
    "b_1 & w_{11} & w_{12} & w_{13} & w_{14} \\\\\n",
    "b_2 & w_{21} & w_{22} & w_{23} & w_{24} \\\\\n",
    "b_3 & w_{31} & w_{32} & w_{33} & w_{34}\n",
    "\\end{bmatrix}\\begin{bmatrix} 1 \\\\ x_1 \\\\ x_2 \\\\ x_3 \\\\ x_4 \\end{bmatrix}$$\n",
    "$$ {\\bf z} = \\begin{bmatrix} z_1 \\\\ z_2 \\\\ z_3 \\end{bmatrix} = {\\bf f}({\\bf u}) = \\begin{bmatrix} f(u_1) \\\\ f(u_2) \\\\ f(u_3) \\end{bmatrix}$$\n",
    "\n",
    "* 従って1層あたりの計算量はバイアスを除く入力の次元をN、出力の次元をMとすると\n",
    "    * 乗算`M*(N+1)`回, 加算`M*N`回、活性化関数計算`M`回"
   ]
  },
  {
   "cell_type": "markdown",
   "metadata": {
    "slideshow": {
     "slide_type": "slide"
    }
   },
   "source": [
    "### 2.2 活性化関数 ###\n",
    "\n",
    "* logistic sigmoid 関数\n",
    "$$ f(u) = {\\rm sigmoid}(u) = \\frac{1}{1 + e^{-u}} $$\n",
    "\n",
    "* tanh関数\n",
    "$$ f(u) = \\tanh(u) = \\frac{e^{u} - e^{-u}}{e^{u} + e^{-u}} $$\n",
    "\n",
    "* 関係\n",
    "$$ 1 - sigmoid(u) = 1 - \\frac{1}{1 + e^{-u}} =  \\frac{1 + e^{-u}}{1 + e^{-u}} -  \\frac{1}{1 + e^{-u}} =  \\frac{e^{-u}}{1 + e^{-u}}$$ \n",
    "$$ \\tanh(u) = \\frac{e^{u} - e^{-u}}{e^{u} + e^{-u}} = \\frac{1 - e^{-2u}}{1 + e^{-2u}} = \\frac{1}{1 + e^{-2u}} - \\frac{e^{-2u}}{1 + e^{-2u}}\n",
    "= {\\rm sigmoid}(2u) - (1 - {\\rm sigmoid}(2u))$$\n",
    "$$ {\\rm sigmoid}(2u) = \\frac{\\tanh(u) + 1}{2} $$"
   ]
  },
  {
   "cell_type": "code",
   "execution_count": 1,
   "metadata": {
    "collapsed": false,
    "slideshow": {
     "slide_type": "subslide"
    }
   },
   "outputs": [],
   "source": [
    "%matplotlib inline\n",
    "import numpy as np\n",
    "import matplotlib.pyplot as plt\n",
    "\n",
    "sigmoid = lambda u: 1. / (1. + np.exp(-u))\n",
    "relu = lambda u: map(lambda x: max(x, 0), u)\n",
    "piecewise = lambda u: map(lambda x: 1 if x >= 1 else (-1 if x < -1 else x), u)\n",
    "\n",
    "xs = np.linspace(-4., 4., 1000)\n",
    "ys_tanh = np.tanh(xs)\n",
    "ys_sig = sigmoid(xs)\n",
    "ys_relu = relu(xs)\n",
    "ys_piecewise = piecewise(xs)"
   ]
  },
  {
   "cell_type": "code",
   "execution_count": 2,
   "metadata": {
    "collapsed": false,
    "slideshow": {
     "slide_type": "subslide"
    }
   },
   "outputs": [
    {
     "data": {
      "text/plain": [
       "<function matplotlib.pyplot.show>"
      ]
     },
     "execution_count": 2,
     "metadata": {},
     "output_type": "execute_result"
    },
    {
     "data": {
      "image/png": "[encoded data removed]",
      "text/plain": [
       "<matplotlib.figure.Figure at 0x1042defd0>"
      ]
     },
     "metadata": {},
     "output_type": "display_data"
    }
   ],
   "source": [
    "fig = plt.figure(1, figsize=(10,10))\n",
    "ax = fig.add_subplot(111)\n",
    "ax.plot(xs, ys_sig);\n",
    "ax.plot(xs, ys_tanh)\n",
    "ax.plot(xs, ys_relu)\n",
    "ax.plot(xs, xs)\n",
    "ax.plot(xs, ys_piecewise)\n",
    "ax.set_ylim([-2.,2.]); ax.grid(); ax.legend([\"sigmoid\", \"tanh\", \"relu\", \"identity\",\"piecewise\"], loc=\"best\")\n",
    "plt.show"
   ]
  },
  {
   "cell_type": "markdown",
   "metadata": {
    "slideshow": {
     "slide_type": "slide"
    }
   },
   "source": [
    "### 2.3 多層ネットワーク ###\n",
    "\n",
    "$$ {\\bf u}^{(l+1)} = {\\bf W}^{(l+1)}{\\bf z}^{(l)} + {\\bf b}^{(l+1)} $$\n",
    "$$ {\\bf z}^{(l+1)} = {\\bf f}({\\bf u}^{(l+1)}) $$\n",
    "\n",
    "* ${\\bf u}^{(l+1)}$はl+1層への入力\n",
    "* ${\\bf W}^{(l+1)}$はl層の出力からl+1層の入力を作るためのパラメータ\n",
    "    * 従って${\\bf W}^1$は存在しない\n",
    "* ${\\bf z}^{(l)}$はl層の出力\n",
    "* ${\\bf b}^{(l+1)}$は${\\bf W}^{(l+1)}$に対応したバイアス"
   ]
  },
  {
   "cell_type": "markdown",
   "metadata": {
    "slideshow": {
     "slide_type": "subslide"
    }
   },
   "source": [
    "#### 最終出力 ####\n",
    "\n",
    "$${\\bf y}({\\bf x}; {\\bf w}) \\equiv {\\bf z}^{(L)} $$\n",
    "\n",
    "* 全体の計算量はバイアスを除く各入力の次元が一律でN、出力の次元が一律でMとすると(この場合N=Mとなる)、L層の場合\n",
    "    * 乗算`L*M*(N+1)`回, 加算`L*M*N`回、活性化関数計算`L*M`回\n",
    "    * これは学習データ1サンプル辺りの計算回数\n",
    "    * 3層でN=1000、サンプリングレート16kHzの場合、1秒間に16000サンプル\n",
    "        * 積和算が1命令でできるチップの場合、積和の計算量の概算値は`16000*2*(10**3)*(10**3)/(10**6)=32000`[MIPS]\n",
    "        * これに活性化関数の計算が加わるので全結合のネットワークの場合恐ろしい計算量"
   ]
  },
  {
   "cell_type": "markdown",
   "metadata": {
    "slideshow": {
     "slide_type": "slide"
    }
   },
   "source": [
    "### 2.4.3 二値分類 ###\n",
    "\n",
    "#### 事後確率$p(d=1|{\\bf x})$ ####\n",
    "\n",
    "    * dが1となる事前確率p(d=1)\n",
    "    * dについての事後確率\n",
    "$$ p(d=1|{\\bf x}) = \\frac{p({\\bf x}, d=1)}{p({\\bf x})} = \\frac{p({\\bf x}|d=1)p(d=1)}{p({\\bf x})} $$\n",
    "\n",
    "* $p({\\bf x}|d=1)$を尤度と言う"
   ]
  },
  {
   "cell_type": "markdown",
   "metadata": {
    "slideshow": {
     "slide_type": "subslide"
    }
   },
   "source": [
    "#### (2.7)について ####\n",
    "\n",
    "$$ p(d|{\\bf x}) = p(d=1|{\\bf x})^d p(d=0|{\\bf x})^{1-d} \\tag{2.7} $$\n",
    "\n",
    "* これはある訓練データ$({\\bf x},d)$のペアに対して、もしd=1であればp(d=0|x)の項は1となり結果はp(d=1|x)、逆にd=0であればp(d=1|x)の項は1となり結果はp(d=0|x)となることを表す"
   ]
  },
  {
   "cell_type": "markdown",
   "metadata": {
    "slideshow": {
     "slide_type": "subslide"
    }
   },
   "source": [
    "#### (2.7式)の変形 ####\n",
    "\n",
    "$$ p(d=0|{\\bf x}) + p(d=1|{\\bf x}) = 1 $$\n",
    "$$ p(d=1|{\\bf x}) \\simeq y({\\bf x}; {\\bf w}) $$\n",
    "を用いると(2.7)式は以下のように記述可能\n",
    "$$ p(d|{\\bf x}) = p(d=1|{\\bf x})^d \\{1 - p(d=1|{\\bf x})\\}^{1-d} = y({\\bf x}; {\\bf w})^d \\{1 - y({\\bf x}; {\\bf w})\\}^{1-d} $$"
   ]
  },
  {
   "cell_type": "markdown",
   "metadata": {
    "slideshow": {
     "slide_type": "subslide"
    }
   },
   "source": [
    "#### ${\\bf w}$の尤度 ####\n",
    "* 乗法公式を用いると${\\bf w}$と$d_n$の同時確率は二通りの方法で表せる\n",
    "$$ p({\\bf w}, d_n | {\\bf x}_n ) = p({\\bf w} | d_n, {\\bf x}_n)p(d_n| {\\bf x}_n) $$\n",
    "$$ p({\\bf w}, d_n | {\\bf x}_n ) = p(d_n | {\\bf w}, {\\bf x}_n)p({\\bf w}| {\\bf x}_n) $$\n",
    "* これらが等しいので、${\\bf w}$のデータに対する事後確率は以下のように表現可能\n",
    "$$ p({\\bf w}| d_n, {\\bf x}_n) = \\frac{p(d_n| {\\bf w}, {\\bf x}_n)p({\\bf w} | {\\bf x}_n)}{p(d_n | {\\bf x}_n)} $$\n",
    "\n",
    "* $p(d_n| {\\bf w}, {\\bf x}_n)=p(d_n| {\\bf x}_n; {\\bf w})$が単一の学習データに対する尤度となるので、全学習データに関する積が学習セットに対する尤度となる"
   ]
  },
  {
   "cell_type": "markdown",
   "metadata": {
    "slideshow": {
     "slide_type": "subslide"
    }
   },
   "source": [
    "#### 事後確率とロジスティック関数の関係 ####\n",
    "\n",
    "$$ u \\equiv \\log\\frac{p({\\bf x}, d=1)}{p({\\bf x},d=0)} \\iff \\frac{p({\\bf x}, d=1)}{p({\\bf x},d=0)} = \\exp(u)$$\n",
    "であるので\n",
    "$$ p(d=1|{\\bf x}) = \\frac{p({\\bf x}, d=1)}{p({\\bf x})} = \\frac{p({\\bf x}, d=1)}{p({\\bf x}, d=0) + p({\\bf x}, d=1)}\n",
    "= \\frac{1}{\\frac{p({\\bf x}, d=0)}{p({\\bf x}, d=1)} + 1} = \\frac{1}{1 + \\exp(-u)}$$\n"
   ]
  },
  {
   "cell_type": "markdown",
   "metadata": {
    "slideshow": {
     "slide_type": "slide"
    }
   },
   "source": [
    "### 2.4.4 多クラス分類 ###\n",
    "\n",
    "* P.21の強制的に$u_k$を0にする対策\n",
    "    * $u_0$は各入力に対して加算されるオフセット(任意の値が許されるため冗長性がある)\n",
    "    * 強制的に一つのユニットへの入力を0にすると、$u_0$が$-u_k$に固定されるため任意性がなくなる"
   ]
  },
  {
   "cell_type": "markdown",
   "metadata": {
    "slideshow": {
     "slide_type": "slide"
    }
   },
   "source": [
    "### 3.5.3 ドロップアウト ###\n",
    "\n",
    "* 推論時のユニット数が学習時と比べて1/pに増えている？"
   ]
  },
  {
   "cell_type": "markdown",
   "metadata": {
    "slideshow": {
     "slide_type": "slide"
    }
   },
   "source": [
    "## 深層学習読書会#2 ##\n",
    "\n",
    "### 今回の内容 ###\n",
    "\n",
    "* 前回の疑問\n",
    "* 3.6〜4の最後まで(大橋)\n",
    "* 石井さん(何かあれば)\n",
    "* 5章 斉藤さん\n",
    "* PFIが最近OSSとして公開したライブラリchainerを触ってみた紹介"
   ]
  },
  {
   "cell_type": "markdown",
   "metadata": {},
   "source": [
    "### 前回の疑問 ###\n",
    "\n",
    "* maxoutの真実\n",
    "    * http://www.slideshare.net/stjunya/maxout-networks\n",
    "    * 一つのネットワークの最終出力の手前に複数の単純な線形関数(2次元だと傾きと切片が違うようなもの)を並べて、それらの出力の最大値を取ると任意の区分線形関数を近似可能であるため、RELUなどにも勝てる\n",
    "* ソフトマックス関数は$u_k$/総和では駄目なのか\n",
    "    * ソフトマックス関数はその名前の通り、max関数をsoftにしたものである\n",
    "        * $u_k \\gg u_j$である場合には$f(u_k) \\simeq 1$であり$f(u_j) \\simeq 0$となる\n",
    "    * ソフトマックス関数への入力はデータとクラスの同時確率の対数$\\log(p({\\bf x},C_k))$であると考えられる\n",
    "        * 実例で示す"
   ]
  },
  {
   "cell_type": "code",
   "execution_count": 68,
   "metadata": {
    "collapsed": false
   },
   "outputs": [
    {
     "name": "stdout",
     "output_type": "stream",
     "text": [
      "[-4.41454983 -6.90775528 -4.35831011 -6.43775165 -5.74460447 -3.37552963\n",
      " -2.39141631 -6.07484616 -5.71383281 -0.07257069]\n",
      "[ 0.0121  0.001   0.0128  0.0016  0.0032  0.0342  0.0915  0.0023  0.0033\n",
      "  0.93  ]\n",
      "1.092\n"
     ]
    },
    {
     "data": {
      "text/plain": [
       "<matplotlib.legend.Legend at 0x115ed4790>"
      ]
     },
     "execution_count": 68,
     "metadata": {},
     "output_type": "execute_result"
    },
    {
     "data": {
      "image/png": "[encoded data removed]",
      "text/plain": [
       "<matplotlib.figure.Figure at 0x115e61d90>"
      ]
     },
     "metadata": {},
     "output_type": "display_data"
    }
   ],
   "source": [
    "def softmax(xs):\n",
    "    return np.exp(xs) / np.sum(np.exp(xs))\n",
    "\n",
    "def ml(xs):\n",
    "    return xs / np.sum(xs)\n",
    "\n",
    "\n",
    "# データとクラスの同時確率\n",
    "probs = np.array([0.0121, 0.0010, 0.0128, 0.0016, 0.0032,\n",
    "                  0.0342, 0.0915, 0.0023, 0.0033, 0.93])\n",
    "us = np.log(probs)  # 入力が対数確率である場合\n",
    "\n",
    "fig = plt.figure(1, figsize=(12, 4));\n",
    "ax = fig.add_subplot(121)\n",
    "w = 0.4\n",
    "\n",
    "print(us)\n",
    "print(np.exp(us))  # expを取るので結局logが外れる\n",
    "print(np.sum(np.exp(us)))\n",
    "\n",
    "ax.bar(np.arange(10), us, width=w, align=\"center\", color=\"b\")\n",
    "ax.legend([\"$u_k$\"], loc=\"best\")\n",
    "\n",
    "ax = fig.add_subplot(122)\n",
    "ax.bar(np.arange(10)    , ml(us), width=w, align=\"center\", color=\"g\")\n",
    "ax.bar(np.arange(10) + w, softmax(us), width=w, align=\"center\", color=\"r\")\n",
    "ax.set_ylim([0.0,1.0])\n",
    "ax.legend([\"ml\", \"softmax\"], loc=\"best\")"
   ]
  },
  {
   "cell_type": "markdown",
   "metadata": {
    "slideshow": {
     "slide_type": "slide"
    }
   },
   "source": [
    "### 3.6.4 AdaGrad ###\n",
    "\n",
    "* i成分の時刻1から現在時刻tまでの$g_{t',i}$の二乗和の平方根で割る\n",
    "* 過去の一定範囲でなく、全時刻の和なので、頻出する要素は分母が大きくなり勾配は自動的に小さくなる、その逆でたまにしか出ない要素は$g_{t',i}$が0に近い値が出ることが多いので勾配は小さく、更新速度は速い"
   ]
  },
  {
   "cell_type": "markdown",
   "metadata": {
    "slideshow": {
     "slide_type": "slide"
    }
   },
   "source": [
    "### 3.6.5 モーメンタム ###\n",
    "\n",
    "* 勾配を平滑化したものとみなせる\n",
    "$$ \\Delta{\\bf w}^{(t-1)} \\equiv {\\bf w}^{(t-1)} - {\\bf w}^{(t-2)} = -\\epsilon\\nabla E_t^{(t-1)} + \\mu \\Delta{\\bf w}^{(t-2)}$$\n",
    "であるので、現在時刻の勾配と前時刻の勾配の関係は以下のようになる\n",
    "$$ \\Delta{\\bf w}^{(t)} = -\\epsilon\\nabla E_t^{(t)} + \\mu \\Delta{\\bf w}^{(t-1)} $$\n",
    "$$ = -\\epsilon\\nabla E_t^{(t)} + \\mu \\left\\{ -\\epsilon\\nabla E_t^{(t-1)} + \\mu \\Delta{\\bf w}^{(t-2)} \\right\\} $$\n",
    "\n",
    "* $\\Delta{\\bf w}$が一定だとすると\n",
    "$$ \\Delta{\\bf w} = -\\epsilon\\nabla E_t^{(t)} + \\mu \\Delta{\\bf w} \\iff \\Delta{\\bf w} = -\\frac{1}{1-\\mu}\\epsilon\\nabla E_t^{(t)} $$"
   ]
  },
  {
   "cell_type": "markdown",
   "metadata": {
    "slideshow": {
     "slide_type": "slide"
    }
   },
   "source": [
    "### 3.6.6 重みの初期化 ###\n",
    "\n",
    "$$u_j = \\sum_i w_{ji} x_i $$\n",
    "において$w_{ji}$のばらつきが大きいと、ロジスティック関数に入力される$u_j$が極端な値を取り、ロジスティック関数の出力が-1や1になる。そうなると傾きが0となるので一次微分が0となってしまい学習が上手くいかない。\n",
    "$u_j$の分散は\n",
    "$$V(u_j) = (u_j - \\bar{u_j})^2 = \\left\\{\\sum_i w_{ji} x_i - {\\rm const} \\right\\}^2 = \\left\\{\\sum_i w_{ji} x_i \\right\\}\\left\\{\\sum_i w_{ji} x_i \\right\\} $$\n",
    "xが独立だと仮定すると、クロス項が消えて\n",
    "$$ = \\sum_i w_{ji}^2 V(x_i) = \\sum_i w_{ji}^2 $$\n",
    "と計算できる。\n",
    "\n",
    "$$V(u_j) = \\sigma_u^2$$\n",
    "にしたい場合は入力ユニット数をMとすると重みの標準偏差を$\\sigma = \\sigma_u / M^{-2}$としておけば、\n",
    "$$V(u_j) = \\sum_i^M w_{ji}^2 = \\sum_i^M (\\sigma_u / M^{-2})^2 = M \\sigma_u^2 / M^4 $$\n",
    "$\\sigma = \\sigma_u / M^{1/2}$の間違いではないか？"
   ]
  },
  {
   "cell_type": "markdown",
   "metadata": {
    "collapsed": false
   },
   "source": [
    "## 5章 5.4以降 ##\n",
    "\n",
    "### 5.4.1 ベルヌーイ分布に対するKL情報量 ###\n",
    "\n",
    "#### ベルヌーイ分布 ####\n",
    "\n",
    "確率pで1を取り(1-p)で0を取る分布。\n",
    "$$p(k)=p^k (1-p)^{1-k}$$\n",
    "ただしkは0か1\n",
    "\n",
    "#### 平均活性度 ####\n",
    "\n",
    "$$\\hat{\\rho}_j=\\frac{1}{N}\\sum_{n=1}^{N}y_j({\\bf x}_n) \\tag{5.3}$$\n",
    "\n",
    "#### KL情報量の定義 ####\n",
    "\n",
    "$${\\rm KL}(P||Q)=\\sum_i p(i)\\log\\frac{p(i)}{q(i)}$$\n",
    "\n",
    "#### 平均活性度とターゲット分布の間のKL情報量 ####\n",
    "\n",
    "$${\\rm KL}(\\rho||\\hat{\\rho})=p(1)\\log\\frac{p(1)}{q(1)}+p(0)\\log\\frac{p(0)}{q(0)}=\\rho\\log\\frac{\\rho}{\\hat{\\rho}}+(1-\\rho)\\log\\frac{(1-\\rho)}{(1-\\hat{\\rho})}$$\n",
    "\n",
    "\n",
    "### 5.4.2 スパース正則化項に対する入力に対する微分 ###\n",
    "\n",
    "#### 誤差逆伝搬法の結論の式((4.11)、(4.12)、(4.13)) ####\n",
    "\n",
    "$$ \\delta_j^{(l)} \\equiv \\frac{\\partial E_n}{\\partial u_j^{(l)}} \\tag{4.11} $$\n",
    "$$ \\delta_j^{(l)}=\\sum_k \\delta_k^{(l+1)} \\left( w_{kj}^{(l+1)} f^{'} (u_j^{(l)}) \\right) \\tag{4.12} $$\n",
    "$$ \\frac{\\partial E_n}{\\partial w_{ji}^{(l)}} = \\delta_j^{(l)}z_i^{(l-1)} \\tag{4.13} $$\n",
    "\n",
    "ここではデルタの計算には誤差関数の入力に対する微分が必要なので正則化項の微分を計算する必要があるが、正則化項においては入力に依存しているのは平均活性度の部分のみであるため平均活性度による微分と平均活性度の入力に対する微分とに分けて考えている。\n",
    "\n"
   ]
  },
  {
   "cell_type": "markdown",
   "metadata": {},
   "source": [
    "### 5.5 データの白色化 ###\n",
    "\n",
    "$$ {\\bf \\Phi}_x \\equiv \\frac{1}{N}\\sum_{n=1}^N {\\bf x}_n{\\bf x}_n^T = \\frac{1}{N}{\\bf X}{\\bf X}^T $$\n",
    "$$ {\\bf X} = [{\\bf x}_1,...,{\\bf x}_n] $$\n",
    "\n",
    "適当な線形変換行列${\\bf P}$で${\\bf x}_n$を変換\n",
    "\n",
    "$${\\bf u}_n = {\\bf P}{\\bf x}_n$$\n",
    "$${\\bf \\Phi}_u \\equiv \\frac{1}{N}\\sum_{n=1}^N {\\bf u}_n{\\bf u}_n^T = \\frac{1}{N}{\\bf U}{\\bf U}^T $$\n",
    "$${\\bf U} = [{\\bf u}_1,...,{\\bf u}_n]$$\n",
    "\n",
    "これが${\\bf \\Phi}_u = {\\bf I}$と表現できることが目的であるので、この仮定をおくと\n",
    "\n",
    "$${\\bf \\Phi}_u \\equiv \\frac{1}{N}{\\bf P}{\\bf X}{\\bf X}^T{\\bf P}^T = {\\bf P}{\\bf \\Phi}_x{\\bf P}^T = {\\bf I}$$\n",
    "\n",
    "両辺の逆行列を計算すると\n",
    "$$ {\\bf \\Phi}_x = {\\bf P}^{-1} ({\\bf P}^T)^{-1} = ({\\bf P}^T{\\bf P})^{-1}$$\n",
    "$$ {\\bf \\Phi}_x^{-1} = {\\bf P}^T{\\bf P} \\tag{5.5}$$\n",
    "\n",
    "${\\bf \\Phi}_x$が$ {\\bf \\Phi}_x = {\\bf E}{\\bf D}{\\bf E}^T $と固有値を対角方向に並べた行列${\\bf D}$および直交行列${\\bf E}$を使って固有値分解できるとすると、\n",
    "\n",
    "$$ {\\bf \\Phi}_x^{-1} = ({\\bf E}{\\bf D}{\\bf E}^T)^{-1} = {\\bf E}{\\bf D}^{-1}{\\bf E}^T $$\n",
    "\n",
    "これが(5.5)と一致するので\n",
    "\n",
    "$$ {\\bf E}{\\bf D}^{-1}{\\bf E}^T = {\\bf P}^T{\\bf P} $$\n",
    "\n",
    "これを満たす行列${\\bf P}$は${\\bf P}={\\bf Q}{\\bf D}^{-1/2}{\\bf E}^T$と表現できる(${\\bf Q}$は{\\bf P}と同サイズの任意の直交行列、${\\bf D}^{-1/2}$は固有値の1/2乗が対角方向に並んだ行列)。なぜならば、そのように置いた場合、${\\bf Q}$が直交行列であることと、${\\bf D}$が対角行列であるため転置しても${\\bf D}$のままであることを考慮すると\n",
    "\n",
    "$$ {\\bf P}^T{\\bf P} = ({\\bf Q}{\\bf D}^{-1/2}{\\bf E})^T ({\\bf Q}{\\bf D}^{-1/2}{\\bf E}) = {\\bf E} ({\\bf D}^{-1/2})^T {\\bf Q}^T {\\bf Q} {\\bf D}^{-1/2} {\\bf E}^T = {\\bf E} ({\\bf D}^{-1/2})^T {\\bf D}^{-1/2} {\\bf E}^T  = {\\bf E} {\\bf D}^{-1} {\\bf E}^T $$\n",
    "\n",
    "と変形可能であり、先の条件の形と一致するためである。ここから${\\bf Q}$には任意性があることが分かる。この変形のことをPCAと呼び、\n",
    "${\\bf Q}$が${\\bf E}$の場合は特別にZCAと呼ぶ。"
   ]
  },
  {
   "cell_type": "markdown",
   "metadata": {},
   "source": [
    "## 7章 ##\n",
    "\n",
    "\n",
    "### 7.4 RNNの誤差逆伝播法 ###\n",
    "\n",
    "* 2種類の方法\n",
    "    * RTRL(Realtime Recurrent Learning)\n",
    "        * 1時刻前に計算した勾配を次の時刻に伝搬させる\n",
    "        * オンライン学習が可能だが計算量が多い\n",
    "    * BPTT(Backpropagation thorugh time)\n",
    "        * 未来の時刻のデルタを過去にフィードバック\n",
    "        * 全時刻(実際には一定時刻分のみ)のサンプルを保持する必要があるためオンライン学習には向かない\n",
    "* 参考\n",
    "    * http://ds9.jaist.ac.jp:8080/ResearchData/sub/99/kobayashi/node5.html\n",
    "    * http://deeplearning.cs.cmu.edu/notes/shaoweiwang.pdf\n",
    "    * http://qiita.com/icoxfog417/items/2791ee878deee0d0fd9c\n",
    "    \n",
    "### BPTTの誤差逆伝播 ###\n",
    "\n",
    "* 誤差逆伝搬法の結論の式((4.11)、(4.12)、(4.13))\n",
    "\n",
    "$$ \\delta_j^{(l)} \\equiv \\frac{\\partial E_n}{\\partial u_j^{(l)}} \\tag{4.11} $$\n",
    "$$ \\delta_j^{(l)}=\\sum_k \\delta_k^{(l+1)} \\left( w_{kj}^{(l+1)} f^{'} (u_j^{(l)}) \\right) \\tag{4.12} $$\n",
    "$$ \\frac{\\partial E_n}{\\partial w_{ji}^{(l)}} = \\delta_j^{(l)}z_i^{(l-1)} \\tag{4.13} $$\n",
    "\n",
    "#### (4.12)式の中間層における変形 ####\n",
    "\n",
    "時刻tにおける中間層のユニットに関しては時刻t+1の中間層のユニットとも繋がりがあるため、t+1時刻からのデルタを逆伝搬させるために(4.12)式が変形される\n",
    "\n",
    "$$ \\delta_j^t = \\left\\{ \\sum_k w_{kj}^{{\\rm out}} \\delta_k^{{\\rm out,t}}  + \\sum_{j'} w_{j'j} \\delta_{j'}^{t+1} \\right\\} f^{'} (u_j^{t}) \\tag{7.7} $$\n",
    "\n",
    "#### (4.13)式の変形 ####\n",
    "\n",
    "重みに対する誤差関数の微分は全時刻にわたって計算されるため(4.13)式を変形すると\n",
    "\n",
    "$$ \\frac{\\partial E}{\\partial w_{ji}^{{\\rm in}}}  = \\sum_{t=1}^T \\delta_j^t x_i^t $$\n",
    "$$ \\frac{\\partial E}{\\partial w_{jj'}}            = \\sum_{t=1}^T \\delta_j^t z_j^{t-1} $$\n",
    "$$ \\frac{\\partial E}{\\partial w_{kj}^{{\\rm out}}} = \\sum_{t=1}^T \\delta_j^t z_j^t $$\n"
   ]
  },
  {
   "cell_type": "code",
   "execution_count": null,
   "metadata": {
    "collapsed": false
   },
   "outputs": [],
   "source": []
  }
 ],
 "metadata": {
  "kernelspec": {
   "display_name": "Python 2",
   "language": "python",
   "name": "python2"
  },
  "language_info": {
   "codemirror_mode": {
    "name": "ipython",
    "version": 2
   },
   "file_extension": ".py",
   "mimetype": "text/x-python",
   "name": "python",
   "nbconvert_exporter": "python",
   "pygments_lexer": "ipython2",
   "version": "2.7.10"
  }
 },
 "nbformat": 4,
 "nbformat_minor": 0
}
